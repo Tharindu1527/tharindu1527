{
  "cells": [
    {
      "cell_type": "markdown",
      "metadata": {
        "id": "view-in-github",
        "colab_type": "text"
      },
      "source": [
        "<a href=\"https://colab.research.google.com/github/Tharindu1527/tharindu1527/blob/code/Sarcasm_my.ipynb\" target=\"_parent\"><img src=\"https://colab.research.google.com/assets/colab-badge.svg\" alt=\"Open In Colab\"/></a>"
      ]
    },
    {
      "cell_type": "code",
      "execution_count": null,
      "id": "764133a7-9905-43ed-8093-fa32be574bd8",
      "metadata": {
        "id": "764133a7-9905-43ed-8093-fa32be574bd8",
        "outputId": "0dfcb55f-a0ad-44c1-e5f0-02e88e317ef1"
      },
      "outputs": [
        {
          "name": "stderr",
          "output_type": "stream",
          "text": [
            "--2024-02-29 15:01:26--  https://storage.googleapis.com/tensorflow-1-public/course3/sarcasm.json\n",
            "Resolving storage.googleapis.com (storage.googleapis.com)... 74.125.68.207, 142.251.175.207, 64.233.170.207, ...\n",
            "Connecting to storage.googleapis.com (storage.googleapis.com)|74.125.68.207|:443... connected.\n",
            "HTTP request sent, awaiting response... 200 OK\n",
            "Length: 5643545 (5.4M) [application/json]\n",
            "Saving to: 'sarcasm.json.2'\n",
            "\n",
            "     0K .......... .......... .......... .......... ..........  0%  318K 17s\n",
            "    50K .......... .......... .......... .......... ..........  1%  347K 16s\n",
            "   100K .......... .......... .......... .......... ..........  2%  538K 14s\n",
            "   150K .......... .......... .......... .......... ..........  3%  714K 12s\n",
            "   200K .......... .......... .......... .......... ..........  4%  225K 14s\n",
            "   250K .......... .......... .......... .......... ..........  5%  200K 16s\n",
            "   300K .......... .......... .......... .......... ..........  6% 68.3K 25s\n",
            "   350K .......... .......... .......... .......... ..........  7% 91.4M 21s\n",
            "   400K .......... .......... .......... .......... ..........  8% 10.4M 19s\n",
            "   450K .......... .......... .......... .......... ..........  9% 72.5K 24s\n",
            "   500K .......... .......... .......... .......... ..........  9%  103K 26s\n",
            "   550K .......... .......... .......... .......... .......... 10%  102K 27s\n",
            "   600K .......... .......... .......... .......... .......... 11%  113K 28s\n",
            "   650K .......... .......... .......... .......... .......... 12%  278K 27s\n",
            "   700K .......... .......... .......... .......... .......... 13%  219K 27s\n",
            "   750K .......... .......... .......... .......... .......... 14%  362K 25s\n",
            "   800K .......... .......... .......... .......... .......... 15%  279K 25s\n",
            "   850K .......... .......... .......... .......... .......... 16%  360K 24s\n",
            "   900K .......... .......... .......... .......... .......... 17%  181K 24s\n",
            "   950K .......... .......... .......... .......... .......... 18%  155K 24s\n",
            "  1000K .......... .......... .......... .......... .......... 19%  110K 24s\n",
            "  1050K .......... .......... .......... .......... .......... 19% 74.8K 26s\n",
            "  1100K .......... .......... .......... .......... .......... 20%  172M 24s\n",
            "  1150K .......... .......... .......... .......... .......... 21%  109K 25s\n",
            "  1200K .......... .......... .......... .......... .......... 22%  331K 24s\n",
            "  1250K .......... .......... .......... .......... .......... 23%  353K 23s\n",
            "  1300K .......... .......... .......... .......... .......... 24%  142K 23s\n",
            "  1350K .......... .......... .......... .......... .......... 25%  137K 23s\n",
            "  1400K .......... .......... .......... .......... .......... 26%  138K 23s\n",
            "  1450K .......... .......... .......... .......... .......... 27%  161K 23s\n",
            "  1500K .......... .......... .......... .......... .......... 28%  186K 22s\n",
            "  1550K .......... .......... .......... .......... .......... 29%  172K 22s\n",
            "  1600K .......... .......... .......... .......... .......... 29% 89.1K 23s\n",
            "  1650K .......... .......... .......... .......... .......... 30%  116M 22s\n",
            "  1700K .......... .......... .......... .......... .......... 31%  208K 21s\n",
            "  1750K .......... .......... .......... .......... .......... 32%  148K 21s\n",
            "  1800K .......... .......... .......... .......... .......... 33%  168K 21s\n",
            "  1850K .......... .......... .......... .......... .......... 34% 97.7K 21s\n",
            "  1900K .......... .......... .......... .......... .......... 35% 65.3K 22s\n",
            "  1950K .......... .......... .......... .......... .......... 36%  158K 21s\n",
            "  2000K .......... .......... .......... .......... .......... 37%  139K 21s\n",
            "  2050K .......... .......... .......... .......... .......... 38%  170K 21s\n",
            "  2100K .......... .......... .......... .......... .......... 39%  266K 20s\n",
            "  2150K .......... .......... .......... .......... .......... 39%  196K 20s\n",
            "  2200K .......... .......... .......... .......... .......... 40%  190K 20s\n",
            "  2250K .......... .......... .......... .......... .......... 41%  179K 19s\n",
            "  2300K .......... .......... .......... .......... .......... 42%  240K 19s\n",
            "  2350K .......... .......... .......... .......... .......... 43%  159K 18s\n",
            "  2400K .......... .......... .......... .......... .......... 44%  249K 18s\n",
            "  2450K .......... .......... .......... .......... .......... 45%  171K 18s\n",
            "  2500K .......... .......... .......... .......... .......... 46%  346K 17s\n",
            "  2550K .......... .......... .......... .......... .......... 47%  122K 17s\n",
            "  2600K .......... .......... .......... .......... .......... 48%  404K 17s\n",
            "  2650K .......... .......... .......... .......... .......... 48%  149K 16s\n",
            "  2700K .......... .......... .......... .......... .......... 49%  124K 16s\n",
            "  2750K .......... .......... .......... .......... .......... 50%  103K 16s\n",
            "  2800K .......... .......... .......... .......... .......... 51%  286K 16s\n",
            "  2850K .......... .......... .......... .......... .......... 52%  126K 16s\n",
            "  2900K .......... .......... .......... .......... .......... 53%  140K 15s\n",
            "  2950K .......... .......... .......... .......... .......... 54%  179K 15s\n",
            "  3000K .......... .......... .......... .......... .......... 55%  225K 15s\n",
            "  3050K .......... .......... .......... .......... .......... 56% 93.0K 14s\n",
            "  3100K .......... .......... .......... .......... .......... 57%  161K 14s\n",
            "  3150K .......... .......... .......... .......... .......... 58%  128K 14s\n",
            "  3200K .......... .......... .......... .......... .......... 58%  151K 14s\n",
            "  3250K .......... .......... .......... .......... .......... 59%  201K 13s\n",
            "  3300K .......... .......... .......... .......... .......... 60%  174K 13s\n",
            "  3350K .......... .......... .......... .......... .......... 61%  316K 13s\n",
            "  3400K .......... .......... .......... .......... .......... 62%  163K 12s\n",
            "  3450K .......... .......... .......... .......... .......... 63%  314K 12s\n",
            "  3500K .......... .......... .......... .......... .......... 64%  210K 12s\n",
            "  3550K .......... .......... .......... .......... .......... 65%  110K 11s\n",
            "  3600K .......... .......... .......... .......... .......... 66%  264K 11s\n",
            "  3650K .......... .......... .......... .......... .......... 67%  206K 11s\n",
            "  3700K .......... .......... .......... .......... .......... 68%  124K 10s\n",
            "  3750K .......... .......... .......... .......... .......... 68%  136K 10s\n",
            "  3800K .......... .......... .......... .......... .......... 69%  140K 10s\n",
            "  3850K .......... .......... .......... .......... .......... 70%  207K 10s\n",
            "  3900K .......... .......... .......... .......... .......... 71%  412K 9s\n",
            "  3950K .......... .......... .......... .......... .......... 72% 69.4K 9s\n",
            "  4000K .......... .......... .......... .......... .......... 73%  159M 9s\n",
            "  4050K .......... .......... .......... .......... .......... 74%  167K 8s\n",
            "  4100K .......... .......... .......... .......... .......... 75%  139K 8s\n",
            "  4150K .......... .......... .......... .......... .......... 76%  167K 8s\n",
            "  4200K .......... .......... .......... .......... .......... 77%  250K 8s\n",
            "  4250K .......... .......... .......... .......... .......... 78%  126K 7s\n",
            "  4300K .......... .......... .......... .......... .......... 78%  165K 7s\n",
            "  4350K .......... .......... .......... .......... .......... 79%  121K 7s\n",
            "  4400K .......... .......... .......... .......... .......... 80%  166K 6s\n",
            "  4450K .......... .......... .......... .......... .......... 81%  192K 6s\n",
            "  4500K .......... .......... .......... .......... .......... 82%  186K 6s\n",
            "  4550K .......... .......... .......... .......... .......... 83%  156K 5s\n",
            "  4600K .......... .......... .......... .......... .......... 84%  174K 5s\n",
            "  4650K .......... .......... .......... .......... .......... 85%  166K 5s\n",
            "  4700K .......... .......... .......... .......... .......... 86%  190K 5s\n",
            "  4750K .......... .......... .......... .......... .......... 87%  117K 4s\n",
            "  4800K .......... .......... .......... .......... .......... 88%  153K 4s\n",
            "  4850K .......... .......... .......... .......... .......... 88%  139K 4s\n",
            "  4900K .......... .......... .......... .......... .......... 89%  227K 3s\n",
            "  4950K .......... .......... .......... .......... .......... 90%  117K 3s\n",
            "  5000K .......... .......... .......... .......... .......... 91%  163K 3s\n",
            "  5050K .......... .......... .......... .......... .......... 92%  171K 2s\n",
            "  5100K .......... .......... .......... .......... .......... 93%  183K 2s\n",
            "  5150K .......... .......... .......... .......... .......... 94%  115K 2s\n",
            "  5200K .......... .......... .......... .......... .......... 95%  213K 2s\n",
            "  5250K .......... .......... .......... .......... .......... 96%  222K 1s\n",
            "  5300K .......... .......... .......... .......... .......... 97%  516K 1s\n",
            "  5350K .......... .......... .......... .......... .......... 97% 93.3K 1s\n",
            "  5400K .......... .......... .......... .......... .......... 98%  715K 0s\n",
            "  5450K .......... .......... .......... .......... .......... 99%  123K 0s\n",
            "  5500K .......... .                                          100%  430M=33s\n",
            "\n",
            "2024-02-29 15:02:00 (167 KB/s) - 'sarcasm.json.2' saved [5643545/5643545]\n",
            "\n"
          ]
        }
      ],
      "source": [
        "!wget https://storage.googleapis.com/tensorflow-1-public/course3/sarcasm.json"
      ]
    },
    {
      "cell_type": "code",
      "execution_count": null,
      "id": "e2497c44-a881-4f99-8dea-fb12c2f2bd86",
      "metadata": {
        "id": "e2497c44-a881-4f99-8dea-fb12c2f2bd86"
      },
      "outputs": [],
      "source": [
        "import json\n",
        "\n",
        "#load jason file\n",
        "with open(\"./sarcasm.json\",'r') as f:\n",
        "    datastore = json.load(f)\n",
        "\n",
        "#list\n",
        "sentences=[]\n",
        "labels = []\n",
        "\n",
        "#collecting sentences and lables in to the list\n",
        "for item in datastore:\n",
        "    sentences.append(item['headline'])\n",
        "    labels.append(item['is_sarcastic'])"
      ]
    },
    {
      "cell_type": "code",
      "execution_count": null,
      "id": "bfefa733-619d-481a-82e2-fb8cd1290953",
      "metadata": {
        "id": "bfefa733-619d-481a-82e2-fb8cd1290953"
      },
      "outputs": [],
      "source": [
        "#Hyper parameters"
      ]
    },
    {
      "cell_type": "code",
      "execution_count": null,
      "id": "9fa43c6c-6cdb-4f68-a1c6-1ee706fcec24",
      "metadata": {
        "id": "9fa43c6c-6cdb-4f68-a1c6-1ee706fcec24"
      },
      "outputs": [],
      "source": [
        "#number of examples those are useing to training\n",
        "training_size = 20000\n",
        "\n",
        "#vocabulary size of the tokenizer\n",
        "vocab_size = 10000\n",
        "\n",
        "#Maxlen of the padded sequences\n",
        "max_length = 32\n",
        "\n",
        "#output dimensions of embedding layer\n",
        "embedding_dim = 16"
      ]
    },
    {
      "cell_type": "code",
      "execution_count": null,
      "id": "5099cfc2-a935-4e20-bd3b-e4d9eeb0e621",
      "metadata": {
        "id": "5099cfc2-a935-4e20-bd3b-e4d9eeb0e621"
      },
      "outputs": [],
      "source": [
        "#split the dataset\n",
        "#that mean we already generate train and test datasets.now we have to devide it to sentences and labels lists\n",
        "#thats why we use data split method"
      ]
    },
    {
      "cell_type": "code",
      "execution_count": null,
      "id": "ce75a09e-c0d4-4ec5-bab4-bdd79cfc68e0",
      "metadata": {
        "id": "ce75a09e-c0d4-4ec5-bab4-bdd79cfc68e0"
      },
      "outputs": [],
      "source": [
        "#split the sentences\n",
        "training_sentences = sentences[0:training_size]\n",
        "testing_sentences = sentences[training_size:]\n",
        "\n",
        "#spit the labels\n",
        "training_labels = labels[0:training_size]\n",
        "testing_labels = labels[training_size:]"
      ]
    },
    {
      "cell_type": "code",
      "execution_count": null,
      "id": "39372a1a-08e6-41e4-8c0d-94c7921a396a",
      "metadata": {
        "id": "39372a1a-08e6-41e4-8c0d-94c7921a396a",
        "outputId": "23443c0b-7aae-4f23-b809-b4cb3fb87f02"
      },
      "outputs": [
        {
          "name": "stdout",
          "output_type": "stream",
          "text": [
            "WARNING:tensorflow:From C:\\Users\\THARINDU\\AppData\\Local\\Programs\\Python\\Python39\\lib\\site-packages\\keras\\src\\losses.py:2976: The name tf.losses.sparse_softmax_cross_entropy is deprecated. Please use tf.compat.v1.losses.sparse_softmax_cross_entropy instead.\n",
            "\n"
          ]
        }
      ],
      "source": [
        "#preprocessing the train and test sets\n",
        "\n",
        "import  numpy as np\n",
        "from tensorflow.keras.preprocessing.text import Tokenizer\n",
        "from tensorflow.keras.preprocessing.sequence import pad_sequences\n",
        "\n",
        "#paramneter for padding and oov tokens\n",
        "trunc_type = 'post'\n",
        "padding_type = 'post'\n",
        "oov_tok = \"<OOV>\"\n",
        "\n",
        "#start tokenizer class\n",
        "tokenizer = Tokenizer(num_words = vocab_size,oov_token=oov_tok)\n",
        "\n",
        "#generate the word index dictionaries\n",
        "tokenizer.fit_on_texts(training_sentences)\n",
        "word_index = tokenizer.word_index\n",
        "\n",
        "#generate and pad the training set\n",
        "training_sequences = tokenizer.texts_to_sequences(training_sentences)\n",
        "training_padded = pad_sequences(training_sequences,maxlen = max_length,padding=padding_type,truncating=trunc_type)\n",
        "\n",
        "#generate and pad the training set\n",
        "testing_sequences = tokenizer.texts_to_sequences(testing_sentences)\n",
        "testing_padded = pad_sequences(testing_sequences,maxlen = max_length,padding=padding_type,truncating=trunc_type)\n",
        "\n",
        "# Convert the labels lists into numpy arrays\n",
        "training_labels = np.array(training_labels)\n",
        "testing_labels = np.array(testing_labels)"
      ]
    },
    {
      "cell_type": "code",
      "execution_count": null,
      "id": "be6a4770-a665-4a42-97a6-70c23e13388f",
      "metadata": {
        "id": "be6a4770-a665-4a42-97a6-70c23e13388f",
        "outputId": "34e2e023-964f-449a-fa5b-dc5e04266059"
      },
      "outputs": [
        {
          "name": "stdout",
          "output_type": "stream",
          "text": [
            "WARNING:tensorflow:From C:\\Users\\THARINDU\\AppData\\Local\\Programs\\Python\\Python39\\lib\\site-packages\\keras\\src\\backend.py:873: The name tf.get_default_graph is deprecated. Please use tf.compat.v1.get_default_graph instead.\n",
            "\n",
            "shape of sample_array = (1, 3, 2)\n",
            "sample array: [[[10  2]\n",
            "  [ 1  3]\n",
            "  [ 1  1]]]\n",
            "output shape of gap1d_layer: (1, 2)\n",
            "output array of gap1d_layer: [[4 2]]\n"
          ]
        }
      ],
      "source": [
        "#build and compile the model\n",
        "import tensorflow as tf\n",
        "\n",
        "# Initialize a GlobalAveragePooling1D (GAP1D) layer\n",
        "gap1d_layer = tf.keras.layers.GlobalAveragePooling1D()\n",
        "\n",
        "# Define sample array\n",
        "sample_array = np.array([[[10,2],[1,3],[1,1]]])\n",
        "\n",
        "# Print shape and contents of sample array\n",
        "print(f'shape of sample_array = {sample_array.shape}')\n",
        "print(f'sample array: {sample_array}')\n",
        "\n",
        "# Pass the sample array to the GAP1D layer\n",
        "output = gap1d_layer(sample_array)\n",
        "\n",
        "# Print shape and contents of the GAP1D output array\n",
        "print(f'output shape of gap1d_layer: {output.shape}')\n",
        "print(f'output array of gap1d_layer: {output.numpy()}')"
      ]
    },
    {
      "cell_type": "code",
      "execution_count": null,
      "id": "1fd40cad-f789-480b-bf41-d892b23693d9",
      "metadata": {
        "id": "1fd40cad-f789-480b-bf41-d892b23693d9",
        "outputId": "a075ee1d-db47-49ae-c7b5-c82e0b335286"
      },
      "outputs": [
        {
          "name": "stdout",
          "output_type": "stream",
          "text": [
            "Model: \"sequential\"\n",
            "_________________________________________________________________\n",
            " Layer (type)                Output Shape              Param #   \n",
            "=================================================================\n",
            " embedding (Embedding)       (None, 32, 16)            160000    \n",
            "                                                                 \n",
            " global_average_pooling1d_1  (None, 16)                0         \n",
            "  (GlobalAveragePooling1D)                                       \n",
            "                                                                 \n",
            " dense (Dense)               (None, 24)                408       \n",
            "                                                                 \n",
            " dense_1 (Dense)             (None, 1)                 25        \n",
            "                                                                 \n",
            "=================================================================\n",
            "Total params: 160433 (626.69 KB)\n",
            "Trainable params: 160433 (626.69 KB)\n",
            "Non-trainable params: 0 (0.00 Byte)\n",
            "_________________________________________________________________\n"
          ]
        }
      ],
      "source": [
        "# Build the model\n",
        "model = tf.keras.Sequential([\n",
        "    tf.keras.layers.Embedding(vocab_size, embedding_dim, input_length=max_length),\n",
        "    tf.keras.layers.GlobalAveragePooling1D(),#if we want to get more accuracy we can use flatten() layer that layer take time but we can get more accuracy\n",
        "    tf.keras.layers.Dense(24, activation='relu'),\n",
        "    tf.keras.layers.Dense(1, activation='sigmoid')\n",
        "])\n",
        "\n",
        "# Print the model summary\n",
        "model.summary()"
      ]
    },
    {
      "cell_type": "code",
      "execution_count": null,
      "id": "c7d11c5c-3014-443f-80fa-1582dccb920c",
      "metadata": {
        "id": "c7d11c5c-3014-443f-80fa-1582dccb920c",
        "outputId": "00b3f637-a3b5-47c7-a714-ca88d09b1a74"
      },
      "outputs": [
        {
          "name": "stdout",
          "output_type": "stream",
          "text": [
            "WARNING:tensorflow:From C:\\Users\\THARINDU\\AppData\\Local\\Programs\\Python\\Python39\\lib\\site-packages\\keras\\src\\optimizers\\__init__.py:309: The name tf.train.Optimizer is deprecated. Please use tf.compat.v1.train.Optimizer instead.\n",
            "\n"
          ]
        }
      ],
      "source": [
        "# Compile the model\n",
        "model.compile(loss='binary_crossentropy',optimizer='adam',metrics=['accuracy'])"
      ]
    },
    {
      "cell_type": "code",
      "execution_count": null,
      "id": "66c576e6-b60b-40d5-945a-6b8e3e96eb3f",
      "metadata": {
        "id": "66c576e6-b60b-40d5-945a-6b8e3e96eb3f",
        "outputId": "52e1324b-1785-4e1a-ed84-74f3d6df3601"
      },
      "outputs": [
        {
          "name": "stdout",
          "output_type": "stream",
          "text": [
            "Epoch 1/30\n",
            "WARNING:tensorflow:From C:\\Users\\THARINDU\\AppData\\Local\\Programs\\Python\\Python39\\lib\\site-packages\\keras\\src\\utils\\tf_utils.py:492: The name tf.ragged.RaggedTensorValue is deprecated. Please use tf.compat.v1.ragged.RaggedTensorValue instead.\n",
            "\n",
            "WARNING:tensorflow:From C:\\Users\\THARINDU\\AppData\\Local\\Programs\\Python\\Python39\\lib\\site-packages\\keras\\src\\engine\\base_layer_utils.py:384: The name tf.executing_eagerly_outside_functions is deprecated. Please use tf.compat.v1.executing_eagerly_outside_functions instead.\n",
            "\n",
            "625/625 - 2s - loss: 0.5716 - accuracy: 0.6999 - val_loss: 0.3962 - val_accuracy: 0.8356 - 2s/epoch - 3ms/step\n",
            "Epoch 2/30\n",
            "625/625 - 1s - loss: 0.3122 - accuracy: 0.8729 - val_loss: 0.3421 - val_accuracy: 0.8547 - 1s/epoch - 2ms/step\n",
            "Epoch 3/30\n",
            "625/625 - 1s - loss: 0.2333 - accuracy: 0.9081 - val_loss: 0.3406 - val_accuracy: 0.8562 - 1s/epoch - 2ms/step\n",
            "Epoch 4/30\n",
            "625/625 - 1s - loss: 0.1884 - accuracy: 0.9287 - val_loss: 0.3579 - val_accuracy: 0.8533 - 1s/epoch - 2ms/step\n",
            "Epoch 5/30\n",
            "625/625 - 1s - loss: 0.1566 - accuracy: 0.9428 - val_loss: 0.3858 - val_accuracy: 0.8480 - 1s/epoch - 2ms/step\n",
            "Epoch 6/30\n",
            "625/625 - 1s - loss: 0.1331 - accuracy: 0.9525 - val_loss: 0.4143 - val_accuracy: 0.8474 - 1s/epoch - 2ms/step\n",
            "Epoch 7/30\n",
            "625/625 - 1s - loss: 0.1141 - accuracy: 0.9607 - val_loss: 0.4611 - val_accuracy: 0.8386 - 1s/epoch - 2ms/step\n",
            "Epoch 8/30\n",
            "625/625 - 1s - loss: 0.0996 - accuracy: 0.9674 - val_loss: 0.4892 - val_accuracy: 0.8402 - 1s/epoch - 2ms/step\n",
            "Epoch 9/30\n",
            "625/625 - 1s - loss: 0.0854 - accuracy: 0.9729 - val_loss: 0.5298 - val_accuracy: 0.8365 - 1s/epoch - 2ms/step\n",
            "Epoch 10/30\n",
            "625/625 - 1s - loss: 0.0742 - accuracy: 0.9769 - val_loss: 0.5753 - val_accuracy: 0.8328 - 1s/epoch - 2ms/step\n",
            "Epoch 11/30\n",
            "625/625 - 1s - loss: 0.0651 - accuracy: 0.9804 - val_loss: 0.6205 - val_accuracy: 0.8304 - 1s/epoch - 2ms/step\n",
            "Epoch 12/30\n",
            "625/625 - 1s - loss: 0.0569 - accuracy: 0.9825 - val_loss: 0.6654 - val_accuracy: 0.8287 - 1s/epoch - 2ms/step\n",
            "Epoch 13/30\n",
            "625/625 - 1s - loss: 0.0497 - accuracy: 0.9858 - val_loss: 0.7137 - val_accuracy: 0.8274 - 1s/epoch - 2ms/step\n",
            "Epoch 14/30\n",
            "625/625 - 1s - loss: 0.0451 - accuracy: 0.9867 - val_loss: 0.7586 - val_accuracy: 0.8250 - 1s/epoch - 2ms/step\n",
            "Epoch 15/30\n",
            "625/625 - 1s - loss: 0.0392 - accuracy: 0.9885 - val_loss: 0.8052 - val_accuracy: 0.8219 - 1s/epoch - 2ms/step\n",
            "Epoch 16/30\n",
            "625/625 - 1s - loss: 0.0351 - accuracy: 0.9909 - val_loss: 0.8577 - val_accuracy: 0.8180 - 1s/epoch - 2ms/step\n",
            "Epoch 17/30\n",
            "625/625 - 1s - loss: 0.0301 - accuracy: 0.9920 - val_loss: 0.9076 - val_accuracy: 0.8165 - 1s/epoch - 2ms/step\n",
            "Epoch 18/30\n",
            "625/625 - 1s - loss: 0.0270 - accuracy: 0.9926 - val_loss: 0.9697 - val_accuracy: 0.8129 - 1s/epoch - 2ms/step\n",
            "Epoch 19/30\n",
            "625/625 - 1s - loss: 0.0243 - accuracy: 0.9930 - val_loss: 1.0267 - val_accuracy: 0.8106 - 1s/epoch - 2ms/step\n",
            "Epoch 20/30\n",
            "625/625 - 1s - loss: 0.0225 - accuracy: 0.9941 - val_loss: 1.1316 - val_accuracy: 0.8098 - 1s/epoch - 2ms/step\n",
            "Epoch 21/30\n",
            "625/625 - 1s - loss: 0.0188 - accuracy: 0.9952 - val_loss: 1.1427 - val_accuracy: 0.8058 - 1s/epoch - 2ms/step\n",
            "Epoch 22/30\n",
            "625/625 - 1s - loss: 0.0169 - accuracy: 0.9955 - val_loss: 1.2233 - val_accuracy: 0.8094 - 1s/epoch - 2ms/step\n",
            "Epoch 23/30\n",
            "625/625 - 1s - loss: 0.0145 - accuracy: 0.9962 - val_loss: 1.2681 - val_accuracy: 0.8043 - 1s/epoch - 2ms/step\n",
            "Epoch 24/30\n",
            "625/625 - 1s - loss: 0.0131 - accuracy: 0.9965 - val_loss: 1.3314 - val_accuracy: 0.8046 - 1s/epoch - 2ms/step\n",
            "Epoch 25/30\n",
            "625/625 - 1s - loss: 0.0121 - accuracy: 0.9967 - val_loss: 1.4124 - val_accuracy: 0.8043 - 1s/epoch - 2ms/step\n",
            "Epoch 26/30\n",
            "625/625 - 1s - loss: 0.0099 - accuracy: 0.9971 - val_loss: 1.4835 - val_accuracy: 0.8050 - 1s/epoch - 2ms/step\n",
            "Epoch 27/30\n",
            "625/625 - 1s - loss: 0.0089 - accuracy: 0.9980 - val_loss: 1.5092 - val_accuracy: 0.8022 - 1s/epoch - 2ms/step\n",
            "Epoch 28/30\n",
            "625/625 - 1s - loss: 0.0084 - accuracy: 0.9977 - val_loss: 1.5877 - val_accuracy: 0.8012 - 1s/epoch - 2ms/step\n",
            "Epoch 29/30\n",
            "625/625 - 1s - loss: 0.0096 - accuracy: 0.9969 - val_loss: 1.6411 - val_accuracy: 0.8032 - 1s/epoch - 2ms/step\n",
            "Epoch 30/30\n",
            "625/625 - 1s - loss: 0.0078 - accuracy: 0.9976 - val_loss: 1.6693 - val_accuracy: 0.8027 - 1s/epoch - 2ms/step\n"
          ]
        }
      ],
      "source": [
        "num_epochs = 30#training model\n",
        "\n",
        "# Train the model\n",
        "history = model.fit(training_padded, training_labels, epochs=num_epochs, validation_data=(testing_padded, testing_labels), verbose=2)"
      ]
    },
    {
      "cell_type": "code",
      "execution_count": null,
      "id": "5406d211-94b1-493b-9783-abed11712645",
      "metadata": {
        "id": "5406d211-94b1-493b-9783-abed11712645",
        "outputId": "e04295ca-92f8-486b-f665-3cac256cdfc4"
      },
      "outputs": [
        {
          "data": {
            "image/png": "[encoded data removed]",
            "text/plain": [
              "<Figure size 640x480 with 1 Axes>"
            ]
          },
          "metadata": {},
          "output_type": "display_data"
        },
        {
          "data": {
            "image/png": "[encoded data removed]",
            "text/plain": [
              "<Figure size 640x480 with 1 Axes>"
            ]
          },
          "metadata": {},
          "output_type": "display_data"
        }
      ],
      "source": [
        "#visualize the result\n",
        "import matplotlib.pyplot as plt\n",
        "\n",
        "# Plot utility\n",
        "def plot_graphs(history, string):\n",
        "  plt.plot(history.history[string])\n",
        "  plt.plot(history.history['val_'+string])\n",
        "  plt.xlabel(\"Epochs\")\n",
        "  plt.ylabel(string)\n",
        "  plt.legend([string, 'val_'+string])\n",
        "  plt.show()\n",
        "\n",
        "# Plot the accuracy and loss\n",
        "plot_graphs(history, \"accuracy\")\n",
        "plot_graphs(history, \"loss\")\n"
      ]
    },
    {
      "cell_type": "code",
      "execution_count": null,
      "id": "7952c19a-2930-4d8d-bf68-1f621615bfb6",
      "metadata": {
        "id": "7952c19a-2930-4d8d-bf68-1f621615bfb6",
        "outputId": "95b22272-9647-44c0-905e-00ad168bf199"
      },
      "outputs": [
        {
          "name": "stdout",
          "output_type": "stream",
          "text": [
            "(10000, 16)\n"
          ]
        }
      ],
      "source": [
        "#visualize the word embedding\n",
        "\n",
        "\n",
        "# Get the index-word dictionary\n",
        "reverse_word_index = tokenizer.index_word\n",
        "\n",
        "# Get the embedding layer from the model (i.e. first layer)\n",
        "embedding_layer = model.layers[0]\n",
        "\n",
        "# Get the weights of the embedding layer\n",
        "embedding_weights = embedding_layer.get_weights()[0]\n",
        "\n",
        "# Print the shape. Expected is (vocab_size, embedding_dim)\n",
        "print(embedding_weights.shape)"
      ]
    },
    {
      "cell_type": "code",
      "execution_count": null,
      "id": "1b62e38f-4600-4847-87af-fc16b74c0ce3",
      "metadata": {
        "id": "1b62e38f-4600-4847-87af-fc16b74c0ce3"
      },
      "outputs": [],
      "source": [
        "import io\n",
        "\n",
        "# Open writeable files\n",
        "out_v = io.open('vecs.tsv', 'w', encoding='utf-8')\n",
        "out_m = io.open('meta.tsv', 'w', encoding='utf-8')\n",
        "\n",
        "# Initialize the loop. Start counting at `1` because `0` is just for the padding\n",
        "for word_num in range(1, vocab_size):\n",
        "\n",
        "  # Get the word associated at the current index\n",
        "  word_name = reverse_word_index[word_num]\n",
        "\n",
        "  # Get the embedding weights associated with the current index\n",
        "  word_embedding = embedding_weights[word_num]\n",
        "\n",
        "  # Write the word name\n",
        "  out_m.write(word_name + \"\\n\")\n",
        "\n",
        "  # Write the word embedding\n",
        "  out_v.write('\\t'.join([str(x) for x in word_embedding]) + \"\\n\")\n",
        "\n",
        "# Close the files\n",
        "out_v.close()\n",
        "out_m.close()"
      ]
    },
    {
      "cell_type": "code",
      "execution_count": null,
      "id": "e7c7eb33-fed0-49a8-9739-f093a8363a31",
      "metadata": {
        "id": "e7c7eb33-fed0-49a8-9739-f093a8363a31"
      },
      "outputs": [],
      "source": [
        "# Import files utilities in Colab\n",
        "try:\n",
        "  from google.colab import files\n",
        "except ImportError:\n",
        "  pass\n",
        "\n",
        "# Download the files\n",
        "else:\n",
        "  files.download('vecs.tsv')\n",
        "  files.download('meta.tsv')"
      ]
    },
    {
      "cell_type": "code",
      "execution_count": null,
      "id": "3b23ce7e-d980-4fb7-a56e-d5fbd278790e",
      "metadata": {
        "id": "3b23ce7e-d980-4fb7-a56e-d5fbd278790e"
      },
      "outputs": [],
      "source": []
    }
  ],
  "metadata": {
    "kernelspec": {
      "display_name": "Python 3 (ipykernel)",
      "language": "python",
      "name": "python3"
    },
    "language_info": {
      "codemirror_mode": {
        "name": "ipython",
        "version": 3
      },
      "file_extension": ".py",
      "mimetype": "text/x-python",
      "name": "python",
      "nbconvert_exporter": "python",
      "pygments_lexer": "ipython3",
      "version": "3.9.10"
    },
    "colab": {
      "provenance": [],
      "include_colab_link": true
    }
  },
  "nbformat": 4,
  "nbformat_minor": 5
}